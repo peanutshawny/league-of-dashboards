{
 "cells": [
  {
   "cell_type": "code",
   "execution_count": 85,
   "metadata": {},
   "outputs": [],
   "source": [
    "import plotly.express as px\n",
    "import plotly\n",
    "\n",
    "import mysql.connector\n",
    "from db_creds import host, user, passwd, database\n",
    "\n",
    "import pandas as pd\n",
    "\n",
    "# connecting to database\n",
    "db = mysql.connector.connect(\n",
    "    host=host,\n",
    "    user=user,\n",
    "    passwd=passwd,\n",
    "    database=database\n",
    ")"
   ]
  },
  {
   "cell_type": "code",
   "execution_count": 125,
   "metadata": {},
   "outputs": [],
   "source": [
    "winrate_df = pd.read_sql('''\n",
    "SELECT DISTINCT\n",
    "\tc.name AS champion,\n",
    "    sum(gi.Win)/count(gi.Win) AS winrate,\n",
    "    1 - sum(gi.Win)/count(gi.Win) AS loserate\n",
    "FROM game_instance gi\n",
    "\tINNER JOIN champ_select cs ON gi.SummonerID = cs.SummonerID\n",
    "\tINNER JOIN game_champ gc ON gi.GameID = gc.GameID AND gc.ChampionID = cs.ChampionID\n",
    "    INNER JOIN champion c on gc.ChampionID = c.ID\n",
    "GROUP BY\n",
    "\tc.name\n",
    "''', con=db).set_index('champion')"
   ]
  },
  {
   "cell_type": "code",
   "execution_count": 126,
   "metadata": {},
   "outputs": [],
   "source": [
    "winrate_df = winrate_df.T"
   ]
  },
  {
   "cell_type": "code",
   "execution_count": 128,
   "metadata": {},
   "outputs": [
    {
     "data": {
      "text/plain": [
       "winrate     0.5031\n",
       "loserate    0.4969\n",
       "Name: Annie, dtype: float64"
      ]
     },
     "execution_count": 128,
     "metadata": {},
     "output_type": "execute_result"
    }
   ],
   "source": [
    "winrate_df['Annie']"
   ]
  },
  {
   "cell_type": "code",
   "execution_count": 129,
   "metadata": {},
   "outputs": [],
   "source": [
    "# pie chart\n",
    "fig = px.pie(\n",
    "    winrate_df,\n",
    "    names=winrate_df.index,\n",
    "    values=winrate_df['Annie']\n",
    ")"
   ]
  },
  {
   "cell_type": "code",
   "execution_count": 130,
   "metadata": {},
   "outputs": [
    {
     "data": {
      "text/plain": [
       "'Piechart.html'"
      ]
     },
     "execution_count": 130,
     "metadata": {},
     "output_type": "execute_result"
    }
   ],
   "source": [
    "plotly.offline.plot(fig,filename='Piechart.html')"
   ]
  },
  {
   "cell_type": "code",
   "execution_count": null,
   "metadata": {},
   "outputs": [],
   "source": []
  }
 ],
 "metadata": {
  "kernelspec": {
   "display_name": "Python 3",
   "language": "python",
   "name": "python3"
  },
  "language_info": {
   "codemirror_mode": {
    "name": "ipython",
    "version": 3
   },
   "file_extension": ".py",
   "mimetype": "text/x-python",
   "name": "python",
   "nbconvert_exporter": "python",
   "pygments_lexer": "ipython3",
   "version": "3.7.6"
  }
 },
 "nbformat": 4,
 "nbformat_minor": 4
}

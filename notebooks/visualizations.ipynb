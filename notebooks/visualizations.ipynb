{
 "cells": [
  {
   "cell_type": "code",
   "execution_count": 1,
   "metadata": {},
   "outputs": [],
   "source": [
    "import plotly.express as px\n",
    "import plotly\n",
    "\n",
    "import mysql.connector\n",
    "from db_creds import host, user, passwd, database\n",
    "\n",
    "import pandas as pd\n",
    "\n",
    "# connecting to database\n",
    "db = mysql.connector.connect(\n",
    "    host=host,\n",
    "    user=user,\n",
    "    passwd=passwd,\n",
    "    database=database\n",
    ")"
   ]
  },
  {
   "cell_type": "code",
   "execution_count": 2,
   "metadata": {},
   "outputs": [],
   "source": [
    "# winrates\n",
    "winrate_df = pd.read_sql('''\n",
    "SELECT DISTINCT\n",
    "\tc.name AS champion,\n",
    "    sum(gi.Win)/count(gi.Win) AS winrate,\n",
    "    1 - sum(gi.Win)/count(gi.Win) AS loserate\n",
    "FROM game_instance gi\n",
    "\tINNER JOIN champ_select cs ON gi.SummonerID = cs.SummonerID\n",
    "\tINNER JOIN game_champ gc ON gi.GameID = gc.GameID AND gc.ChampionID = cs.ChampionID\n",
    "    INNER JOIN champion c on gc.ChampionID = c.ID\n",
    "GROUP BY\n",
    "\tc.name\n",
    "''', con=db).set_index('champion')"
   ]
  },
  {
   "cell_type": "code",
   "execution_count": 3,
   "metadata": {},
   "outputs": [],
   "source": [
    "# pickrates\n",
    "pickrate_df = pd.read_sql('''\n",
    "SELECT DISTINCT\n",
    "\tc.name AS champion,\n",
    "    (COUNT(ChampionID) OVER (PARTITION BY ChampionID))/(SELECT COUNT(*) FROM game) AS pickrate,\n",
    "    1 - (COUNT(ChampionID) OVER (PARTITION BY ChampionID))/(SELECT COUNT(*) FROM game) AS nopickrate\n",
    "FROM game_champ gc\n",
    "\tINNER JOIN champion c ON gc.ChampionID = c.Id\n",
    "''', con=db).set_index('champion')"
   ]
  },
  {
   "cell_type": "code",
   "execution_count": 8,
   "metadata": {},
   "outputs": [],
   "source": [
    "# damage dealt\n",
    "damage_df = pd.read_sql('''\n",
    "SELECT DISTINCT\n",
    "\tc.name AS champion,\n",
    "\tavg(gi.TotalDamageDealtToChampions) as avg_damage_per_game\n",
    "FROM game_instance gi\n",
    "\tINNER JOIN champ_select cs ON gi.SummonerID = cs.SummonerID\n",
    "\tINNER JOIN game_champ gc ON gi.GameID = gc.GameID AND gc.ChampionID = cs.ChampionID\n",
    "    INNER JOIN champion c on gc.ChampionID = c.ID\n",
    "GROUP BY\n",
    "\tc.name\n",
    "ORDER BY\n",
    "\tavg_damage_per_game\n",
    "''', con=db)"
   ]
  },
  {
   "cell_type": "code",
   "execution_count": 9,
   "metadata": {},
   "outputs": [
    {
     "data": {
      "text/html": [
       "<div>\n",
       "<style scoped>\n",
       "    .dataframe tbody tr th:only-of-type {\n",
       "        vertical-align: middle;\n",
       "    }\n",
       "\n",
       "    .dataframe tbody tr th {\n",
       "        vertical-align: top;\n",
       "    }\n",
       "\n",
       "    .dataframe thead th {\n",
       "        text-align: right;\n",
       "    }\n",
       "</style>\n",
       "<table border=\"1\" class=\"dataframe\">\n",
       "  <thead>\n",
       "    <tr style=\"text-align: right;\">\n",
       "      <th></th>\n",
       "      <th>champion</th>\n",
       "      <th>avg_damage_per_game</th>\n",
       "    </tr>\n",
       "  </thead>\n",
       "  <tbody>\n",
       "    <tr>\n",
       "      <th>0</th>\n",
       "      <td>Taric</td>\n",
       "      <td>5655.8434</td>\n",
       "    </tr>\n",
       "    <tr>\n",
       "      <th>1</th>\n",
       "      <td>Soraka</td>\n",
       "      <td>5894.3206</td>\n",
       "    </tr>\n",
       "    <tr>\n",
       "      <th>2</th>\n",
       "      <td>Lulu</td>\n",
       "      <td>5999.3915</td>\n",
       "    </tr>\n",
       "    <tr>\n",
       "      <th>3</th>\n",
       "      <td>Rakan</td>\n",
       "      <td>6844.3455</td>\n",
       "    </tr>\n",
       "    <tr>\n",
       "      <th>4</th>\n",
       "      <td>Braum</td>\n",
       "      <td>7228.8417</td>\n",
       "    </tr>\n",
       "  </tbody>\n",
       "</table>\n",
       "</div>"
      ],
      "text/plain": [
       "  champion  avg_damage_per_game\n",
       "0    Taric            5655.8434\n",
       "1   Soraka            5894.3206\n",
       "2     Lulu            5999.3915\n",
       "3    Rakan            6844.3455\n",
       "4    Braum            7228.8417"
      ]
     },
     "execution_count": 9,
     "metadata": {},
     "output_type": "execute_result"
    }
   ],
   "source": [
    "damage_df.head()"
   ]
  },
  {
   "cell_type": "code",
   "execution_count": 16,
   "metadata": {},
   "outputs": [],
   "source": [
    "winrate_df = winrate_df.T\n",
    "pickrate_df = pickrate_df.T"
   ]
  },
  {
   "cell_type": "code",
   "execution_count": 17,
   "metadata": {},
   "outputs": [
    {
     "data": {
      "text/plain": [
       "pickrate      0.0384\n",
       "nopickrate    0.9616\n",
       "Name: Annie, dtype: float64"
      ]
     },
     "execution_count": 17,
     "metadata": {},
     "output_type": "execute_result"
    }
   ],
   "source": [
    "pickrate_df['Annie']"
   ]
  },
  {
   "cell_type": "code",
   "execution_count": 18,
   "metadata": {},
   "outputs": [],
   "source": [
    "# pie chart for winrate\n",
    "winrate_fig = px.pie(\n",
    "    winrate_df,\n",
    "    names=winrate_df.index,\n",
    "    values=winrate_df['Annie']\n",
    ")"
   ]
  },
  {
   "cell_type": "code",
   "execution_count": 19,
   "metadata": {},
   "outputs": [],
   "source": [
    "# pie chart for pickrate\n",
    "pickrate_fig = px.pie(\n",
    "    pickrate_df,\n",
    "    names=pickrate_df.index,\n",
    "    values=pickrate_df['Annie']\n",
    ")"
   ]
  },
  {
   "cell_type": "code",
   "execution_count": 10,
   "metadata": {},
   "outputs": [],
   "source": [
    "# bar chart for damage dealt\n",
    "dmg_fig = px.bar(damage_df, x='champion', y='avg_damage_per_game')"
   ]
  },
  {
   "cell_type": "code",
   "execution_count": 11,
   "metadata": {},
   "outputs": [
    {
     "data": {
      "text/plain": [
       "'Barchart.html'"
      ]
     },
     "execution_count": 11,
     "metadata": {},
     "output_type": "execute_result"
    }
   ],
   "source": [
    "# plotly.offline.plot(pickrate_fig,filename='Piechart.html')\n",
    "plotly.offline.plot(dmg_fig,filename='Barchart.html')"
   ]
  },
  {
   "cell_type": "code",
   "execution_count": null,
   "metadata": {},
   "outputs": [],
   "source": []
  }
 ],
 "metadata": {
  "kernelspec": {
   "display_name": "Python 3",
   "language": "python",
   "name": "python3"
  },
  "language_info": {
   "codemirror_mode": {
    "name": "ipython",
    "version": 3
   },
   "file_extension": ".py",
   "mimetype": "text/x-python",
   "name": "python",
   "nbconvert_exporter": "python",
   "pygments_lexer": "ipython3",
   "version": "3.7.6"
  }
 },
 "nbformat": 4,
 "nbformat_minor": 4
}
